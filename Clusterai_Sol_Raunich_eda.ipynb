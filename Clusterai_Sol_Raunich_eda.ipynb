{
  "nbformat": 4,
  "nbformat_minor": 0,
  "metadata": {
    "colab": {
      "provenance": [],
      "toc_visible": true,
      "collapsed_sections": [
        "kfPOUfh6jp_F",
        "qRGmWOLVjvT-",
        "BgOLGRnTx6c2"
      ]
    },
    "kernelspec": {
      "name": "python3",
      "display_name": "Python 3"
    },
    "language_info": {
      "name": "python"
    }
  },
  "cells": [
    {
      "cell_type": "markdown",
      "source": [
        "# EDA"
      ],
      "metadata": {
        "id": "kfPOUfh6jp_F"
      }
    },
    {
      "cell_type": "code",
      "execution_count": null,
      "metadata": {
        "id": "hlqJ3B7JTIvv"
      },
      "outputs": [],
      "source": [
        "## Importo librerías\n",
        "import pandas as pd\n",
        "import numpy as np\n",
        "import seaborn as sns\n",
        "import matplotlib.pyplot as plt\n",
        "from sklearn.impute import SimpleImputer"
      ]
    },
    {
      "cell_type": "code",
      "source": [
        "# Definimos el identificador de la hoja de cálculo de Google Sheets\n",
        "Id_planilla = '1lJuHZIl-8iYOoi5cfYmnVoQq-RBl_2Yu2XIsqsjOvQA'\n",
        "\n",
        "# Construimos la URL para acceder a la hoja de cálculo en formato CSV\n",
        "URL = f'https://docs.google.com/spreadsheets/d/{Id_planilla}/gviz/tq?tqx=out:csv&sheet='\n",
        "\n",
        "#Obtener los datos\n",
        "\n",
        "df_TC = pd.read_csv(URL + 'Hoja')"
      ],
      "metadata": {
        "id": "4wdx9ZXBWUAd"
      },
      "execution_count": null,
      "outputs": []
    },
    {
      "cell_type": "code",
      "source": [
        "#Obtener el tamaño de cada dimensión\n",
        "df_TC.shape"
      ],
      "metadata": {
        "colab": {
          "base_uri": "https://localhost:8080/"
        },
        "id": "HOoLlyN3Wroj",
        "outputId": "a9707347-0db1-46ae-a43e-bef9028ae85a"
      },
      "execution_count": null,
      "outputs": [
        {
          "output_type": "execute_result",
          "data": {
            "text/plain": [
              "(7043, 22)"
            ]
          },
          "metadata": {},
          "execution_count": 458
        }
      ]
    },
    {
      "cell_type": "code",
      "source": [
        "#Obtener el número total de elementos\n",
        "df_TC.size"
      ],
      "metadata": {
        "colab": {
          "base_uri": "https://localhost:8080/"
        },
        "id": "2chCpUPRXACT",
        "outputId": "96ad859e-0030-4445-a856-435ce242cb06"
      },
      "execution_count": null,
      "outputs": [
        {
          "output_type": "execute_result",
          "data": {
            "text/plain": [
              "154946"
            ]
          },
          "metadata": {},
          "execution_count": 459
        }
      ]
    },
    {
      "cell_type": "code",
      "source": [
        "#Pantallazo general para los no nulos, tipos y columnas\n",
        "df_TC.info()"
      ],
      "metadata": {
        "colab": {
          "base_uri": "https://localhost:8080/"
        },
        "id": "Gux67WaGYUAL",
        "outputId": "268cd989-a241-4161-b33c-5eb1ebddd647"
      },
      "execution_count": null,
      "outputs": [
        {
          "output_type": "stream",
          "name": "stdout",
          "text": [
            "<class 'pandas.core.frame.DataFrame'>\n",
            "RangeIndex: 7043 entries, 0 to 7042\n",
            "Data columns (total 22 columns):\n",
            " #   Column            Non-Null Count  Dtype  \n",
            "---  ------            --------------  -----  \n",
            " 0   Unnamed: 0        7043 non-null   int64  \n",
            " 1   customerID        7043 non-null   object \n",
            " 2   gender            6127 non-null   object \n",
            " 3   SeniorCitizen     6127 non-null   float64\n",
            " 4   Partner           6127 non-null   object \n",
            " 5   Dependents        6127 non-null   object \n",
            " 6   tenure            6127 non-null   float64\n",
            " 7   PhoneService      6127 non-null   object \n",
            " 8   MultipleLines     6127 non-null   object \n",
            " 9   InternetService   6127 non-null   object \n",
            " 10  OnlineSecurity    6127 non-null   object \n",
            " 11  OnlineBackup      6127 non-null   object \n",
            " 12  DeviceProtection  7043 non-null   object \n",
            " 13  TechSupport       7043 non-null   object \n",
            " 14  StreamingTV       7043 non-null   object \n",
            " 15  StreamingMovies   7043 non-null   object \n",
            " 16  Contract          5846 non-null   object \n",
            " 17  PaperlessBilling  5846 non-null   object \n",
            " 18  PaymentMethod     5846 non-null   object \n",
            " 19  MonthlyCharges    5846 non-null   float64\n",
            " 20  TotalCharges      7032 non-null   float64\n",
            " 21  Churn             7043 non-null   object \n",
            "dtypes: float64(4), int64(1), object(17)\n",
            "memory usage: 1.2+ MB\n"
          ]
        }
      ]
    },
    {
      "cell_type": "code",
      "source": [
        "#Distribucion de la variable Churn\n",
        "df_TC['Churn'].value_counts()"
      ],
      "metadata": {
        "colab": {
          "base_uri": "https://localhost:8080/",
          "height": 178
        },
        "id": "9zDiZ4BCY0k0",
        "outputId": "03f8db2f-a874-4364-8ada-67c4be54c5d9"
      },
      "execution_count": null,
      "outputs": [
        {
          "output_type": "execute_result",
          "data": {
            "text/plain": [
              "Churn\n",
              "No     5174\n",
              "Yes    1869\n",
              "Name: count, dtype: int64"
            ],
            "text/html": [
              "<div>\n",
              "<style scoped>\n",
              "    .dataframe tbody tr th:only-of-type {\n",
              "        vertical-align: middle;\n",
              "    }\n",
              "\n",
              "    .dataframe tbody tr th {\n",
              "        vertical-align: top;\n",
              "    }\n",
              "\n",
              "    .dataframe thead th {\n",
              "        text-align: right;\n",
              "    }\n",
              "</style>\n",
              "<table border=\"1\" class=\"dataframe\">\n",
              "  <thead>\n",
              "    <tr style=\"text-align: right;\">\n",
              "      <th></th>\n",
              "      <th>count</th>\n",
              "    </tr>\n",
              "    <tr>\n",
              "      <th>Churn</th>\n",
              "      <th></th>\n",
              "    </tr>\n",
              "  </thead>\n",
              "  <tbody>\n",
              "    <tr>\n",
              "      <th>No</th>\n",
              "      <td>5174</td>\n",
              "    </tr>\n",
              "    <tr>\n",
              "      <th>Yes</th>\n",
              "      <td>1869</td>\n",
              "    </tr>\n",
              "  </tbody>\n",
              "</table>\n",
              "</div><br><label><b>dtype:</b> int64</label>"
            ]
          },
          "metadata": {},
          "execution_count": 461
        }
      ]
    },
    {
      "cell_type": "code",
      "source": [
        "# Verificar los valores únicos en Churn\n",
        "print(df_TC['Churn'].unique())"
      ],
      "metadata": {
        "colab": {
          "base_uri": "https://localhost:8080/"
        },
        "id": "cneXPfUhZGIz",
        "outputId": "12f55a4d-b3df-4d30-bb01-706da25c769b"
      },
      "execution_count": null,
      "outputs": [
        {
          "output_type": "stream",
          "name": "stdout",
          "text": [
            "['No' 'Yes']\n"
          ]
        }
      ]
    },
    {
      "cell_type": "code",
      "source": [
        "# Limpiar la columna Churn y convertir a formato numérico\n",
        "df_TC['Churn'] = df_TC['Churn'].str.strip()  # Eliminar espacios en blanco\n",
        "df_TC['Churn'] = df_TC['Churn'].map({'Yes': 1, 'No': 0})"
      ],
      "metadata": {
        "id": "EALXxh4Xaj7B"
      },
      "execution_count": null,
      "outputs": []
    },
    {
      "cell_type": "code",
      "source": [
        "# Reemplazar cadenas vacías o espacios por NaN\n",
        "df_TC['Churn'].replace('', pd.NA, inplace=True)\n",
        "df_TC['Churn'].replace(' ', pd.NA, inplace=True)"
      ],
      "metadata": {
        "colab": {
          "base_uri": "https://localhost:8080/"
        },
        "id": "s8SIw16iI8mV",
        "outputId": "8593ab57-de78-494a-e028-f31e1c28b000"
      },
      "execution_count": null,
      "outputs": [
        {
          "output_type": "stream",
          "name": "stderr",
          "text": [
            "<ipython-input-464-dc90d0400b7e>:2: FutureWarning: A value is trying to be set on a copy of a DataFrame or Series through chained assignment using an inplace method.\n",
            "The behavior will change in pandas 3.0. This inplace method will never work because the intermediate object on which we are setting values always behaves as a copy.\n",
            "\n",
            "For example, when doing 'df[col].method(value, inplace=True)', try using 'df.method({col: value}, inplace=True)' or df[col] = df[col].method(value) instead, to perform the operation inplace on the original object.\n",
            "\n",
            "\n",
            "  df_TC['Churn'].replace('', pd.NA, inplace=True)\n",
            "<ipython-input-464-dc90d0400b7e>:3: FutureWarning: A value is trying to be set on a copy of a DataFrame or Series through chained assignment using an inplace method.\n",
            "The behavior will change in pandas 3.0. This inplace method will never work because the intermediate object on which we are setting values always behaves as a copy.\n",
            "\n",
            "For example, when doing 'df[col].method(value, inplace=True)', try using 'df.method({col: value}, inplace=True)' or df[col] = df[col].method(value) instead, to perform the operation inplace on the original object.\n",
            "\n",
            "\n",
            "  df_TC['Churn'].replace(' ', pd.NA, inplace=True)\n"
          ]
        }
      ]
    },
    {
      "cell_type": "code",
      "source": [
        "#Ver que los valores sean 0 y 1\n",
        "print(df_TC['Churn'].unique())"
      ],
      "metadata": {
        "colab": {
          "base_uri": "https://localhost:8080/"
        },
        "id": "BmpCaFuRJBEM",
        "outputId": "5d2ed4be-4518-43e2-aeec-8e729bd63229"
      },
      "execution_count": null,
      "outputs": [
        {
          "output_type": "stream",
          "name": "stdout",
          "text": [
            "[0 1]\n"
          ]
        }
      ]
    },
    {
      "cell_type": "code",
      "source": [
        "# Verificar si hay NaNs después del mapeo\n",
        "print(\"NaNs en Churn después del mapeo:\")\n",
        "print(df_TC['Churn'].isnull().sum())"
      ],
      "metadata": {
        "colab": {
          "base_uri": "https://localhost:8080/"
        },
        "id": "mcjyExwZJDiK",
        "outputId": "11b2ab19-2f0a-477b-81bd-cc735ce5d02d"
      },
      "execution_count": null,
      "outputs": [
        {
          "output_type": "stream",
          "name": "stdout",
          "text": [
            "NaNs en Churn después del mapeo:\n",
            "0\n"
          ]
        }
      ]
    },
    {
      "cell_type": "code",
      "source": [
        "#Que tipo\n",
        "print(df_TC['Churn'].dtype)"
      ],
      "metadata": {
        "colab": {
          "base_uri": "https://localhost:8080/"
        },
        "id": "8v0dFt2FJGEK",
        "outputId": "d8338f5d-0ccd-4a47-ae6e-6417493c601a"
      },
      "execution_count": null,
      "outputs": [
        {
          "output_type": "stream",
          "name": "stdout",
          "text": [
            "int64\n"
          ]
        }
      ]
    },
    {
      "cell_type": "code",
      "source": [
        "#Verificar duplicados\n",
        "df_TC.duplicated().sum()"
      ],
      "metadata": {
        "colab": {
          "base_uri": "https://localhost:8080/"
        },
        "id": "4TFsA15lZeSj",
        "outputId": "938f3227-e681-4241-96c3-56934fc239fb"
      },
      "execution_count": null,
      "outputs": [
        {
          "output_type": "execute_result",
          "data": {
            "text/plain": [
              "0"
            ]
          },
          "metadata": {},
          "execution_count": 468
        }
      ]
    },
    {
      "cell_type": "code",
      "source": [
        "#Eliminar Columna unnamed: 0 ya que no es necesario para el analisis\n",
        "df_TC.drop('Unnamed: 0', axis=1, inplace=True)"
      ],
      "metadata": {
        "id": "62RDVKrjZ1yf"
      },
      "execution_count": null,
      "outputs": []
    },
    {
      "cell_type": "code",
      "source": [
        "# Comprobar valores nulos por columna\n",
        "print(df_TC.isnull().sum())"
      ],
      "metadata": {
        "colab": {
          "base_uri": "https://localhost:8080/"
        },
        "id": "FLbN22d4aSfE",
        "outputId": "cafaa089-d43c-40e1-9c53-d9922d7378da"
      },
      "execution_count": null,
      "outputs": [
        {
          "output_type": "stream",
          "name": "stdout",
          "text": [
            "customerID             0\n",
            "gender               916\n",
            "SeniorCitizen        916\n",
            "Partner              916\n",
            "Dependents           916\n",
            "tenure               916\n",
            "PhoneService         916\n",
            "MultipleLines        916\n",
            "InternetService      916\n",
            "OnlineSecurity       916\n",
            "OnlineBackup         916\n",
            "DeviceProtection       0\n",
            "TechSupport            0\n",
            "StreamingTV            0\n",
            "StreamingMovies        0\n",
            "Contract            1197\n",
            "PaperlessBilling    1197\n",
            "PaymentMethod       1197\n",
            "MonthlyCharges      1197\n",
            "TotalCharges          11\n",
            "Churn                  0\n",
            "dtype: int64\n"
          ]
        }
      ]
    },
    {
      "cell_type": "code",
      "source": [
        "#Contador de Nans\n",
        "df_TC.isna().sum()"
      ],
      "metadata": {
        "colab": {
          "base_uri": "https://localhost:8080/",
          "height": 743
        },
        "id": "3ahnDPBwFz4c",
        "outputId": "3a6fb192-8799-4b64-e187-f1a3c8056bd7"
      },
      "execution_count": null,
      "outputs": [
        {
          "output_type": "execute_result",
          "data": {
            "text/plain": [
              "customerID             0\n",
              "gender               916\n",
              "SeniorCitizen        916\n",
              "Partner              916\n",
              "Dependents           916\n",
              "tenure               916\n",
              "PhoneService         916\n",
              "MultipleLines        916\n",
              "InternetService      916\n",
              "OnlineSecurity       916\n",
              "OnlineBackup         916\n",
              "DeviceProtection       0\n",
              "TechSupport            0\n",
              "StreamingTV            0\n",
              "StreamingMovies        0\n",
              "Contract            1197\n",
              "PaperlessBilling    1197\n",
              "PaymentMethod       1197\n",
              "MonthlyCharges      1197\n",
              "TotalCharges          11\n",
              "Churn                  0\n",
              "dtype: int64"
            ],
            "text/html": [
              "<div>\n",
              "<style scoped>\n",
              "    .dataframe tbody tr th:only-of-type {\n",
              "        vertical-align: middle;\n",
              "    }\n",
              "\n",
              "    .dataframe tbody tr th {\n",
              "        vertical-align: top;\n",
              "    }\n",
              "\n",
              "    .dataframe thead th {\n",
              "        text-align: right;\n",
              "    }\n",
              "</style>\n",
              "<table border=\"1\" class=\"dataframe\">\n",
              "  <thead>\n",
              "    <tr style=\"text-align: right;\">\n",
              "      <th></th>\n",
              "      <th>0</th>\n",
              "    </tr>\n",
              "  </thead>\n",
              "  <tbody>\n",
              "    <tr>\n",
              "      <th>customerID</th>\n",
              "      <td>0</td>\n",
              "    </tr>\n",
              "    <tr>\n",
              "      <th>gender</th>\n",
              "      <td>916</td>\n",
              "    </tr>\n",
              "    <tr>\n",
              "      <th>SeniorCitizen</th>\n",
              "      <td>916</td>\n",
              "    </tr>\n",
              "    <tr>\n",
              "      <th>Partner</th>\n",
              "      <td>916</td>\n",
              "    </tr>\n",
              "    <tr>\n",
              "      <th>Dependents</th>\n",
              "      <td>916</td>\n",
              "    </tr>\n",
              "    <tr>\n",
              "      <th>tenure</th>\n",
              "      <td>916</td>\n",
              "    </tr>\n",
              "    <tr>\n",
              "      <th>PhoneService</th>\n",
              "      <td>916</td>\n",
              "    </tr>\n",
              "    <tr>\n",
              "      <th>MultipleLines</th>\n",
              "      <td>916</td>\n",
              "    </tr>\n",
              "    <tr>\n",
              "      <th>InternetService</th>\n",
              "      <td>916</td>\n",
              "    </tr>\n",
              "    <tr>\n",
              "      <th>OnlineSecurity</th>\n",
              "      <td>916</td>\n",
              "    </tr>\n",
              "    <tr>\n",
              "      <th>OnlineBackup</th>\n",
              "      <td>916</td>\n",
              "    </tr>\n",
              "    <tr>\n",
              "      <th>DeviceProtection</th>\n",
              "      <td>0</td>\n",
              "    </tr>\n",
              "    <tr>\n",
              "      <th>TechSupport</th>\n",
              "      <td>0</td>\n",
              "    </tr>\n",
              "    <tr>\n",
              "      <th>StreamingTV</th>\n",
              "      <td>0</td>\n",
              "    </tr>\n",
              "    <tr>\n",
              "      <th>StreamingMovies</th>\n",
              "      <td>0</td>\n",
              "    </tr>\n",
              "    <tr>\n",
              "      <th>Contract</th>\n",
              "      <td>1197</td>\n",
              "    </tr>\n",
              "    <tr>\n",
              "      <th>PaperlessBilling</th>\n",
              "      <td>1197</td>\n",
              "    </tr>\n",
              "    <tr>\n",
              "      <th>PaymentMethod</th>\n",
              "      <td>1197</td>\n",
              "    </tr>\n",
              "    <tr>\n",
              "      <th>MonthlyCharges</th>\n",
              "      <td>1197</td>\n",
              "    </tr>\n",
              "    <tr>\n",
              "      <th>TotalCharges</th>\n",
              "      <td>11</td>\n",
              "    </tr>\n",
              "    <tr>\n",
              "      <th>Churn</th>\n",
              "      <td>0</td>\n",
              "    </tr>\n",
              "  </tbody>\n",
              "</table>\n",
              "</div><br><label><b>dtype:</b> int64</label>"
            ]
          },
          "metadata": {},
          "execution_count": 471
        }
      ]
    },
    {
      "cell_type": "code",
      "source": [
        "#Obtener el tamaño de cada dimensión\n",
        "df_TC.shape"
      ],
      "metadata": {
        "colab": {
          "base_uri": "https://localhost:8080/"
        },
        "id": "1XJOS6dZGkqI",
        "outputId": "c4c3dea4-40ad-4144-db4b-a9e0980538d9"
      },
      "execution_count": null,
      "outputs": [
        {
          "output_type": "execute_result",
          "data": {
            "text/plain": [
              "(7043, 21)"
            ]
          },
          "metadata": {},
          "execution_count": 472
        }
      ]
    },
    {
      "cell_type": "code",
      "source": [
        "# Separar características y etiqueta después de limpiar\n",
        "X = df_TC.drop(columns=['Churn', 'customerID'])\n",
        "y = df_TC['Churn']"
      ],
      "metadata": {
        "id": "xcfdsiBvK7BP"
      },
      "execution_count": null,
      "outputs": []
    },
    {
      "cell_type": "code",
      "source": [
        "# Codificación de variables categóricas\n",
        "X = pd.get_dummies(X, drop_first=True)  # Convierte variables categóricas a variables dummy"
      ],
      "metadata": {
        "id": "M-Eab4QpL9SW"
      },
      "execution_count": null,
      "outputs": []
    },
    {
      "cell_type": "code",
      "source": [
        "# Verificar si hay NaNs en y\n",
        "print(\"NaNs en y (Churn):\")\n",
        "print(y.isnull().sum())"
      ],
      "metadata": {
        "colab": {
          "base_uri": "https://localhost:8080/"
        },
        "id": "kqQCzqUkK9M9",
        "outputId": "906f0ad1-96c8-4ec1-d388-93bbc404b400"
      },
      "execution_count": null,
      "outputs": [
        {
          "output_type": "stream",
          "name": "stdout",
          "text": [
            "NaNs en y (Churn):\n",
            "0\n"
          ]
        }
      ]
    },
    {
      "cell_type": "code",
      "source": [
        "# Verificar si hay NaNs después del mapeo\n",
        "print(\"NaNs en Churn después del mapeo:\")\n",
        "print(df_TC['Churn'].isnull().sum())"
      ],
      "metadata": {
        "colab": {
          "base_uri": "https://localhost:8080/"
        },
        "id": "RNPGnpoBJvE3",
        "outputId": "1ab2103d-eef6-4a89-98ff-39f90ea215d3"
      },
      "execution_count": null,
      "outputs": [
        {
          "output_type": "stream",
          "name": "stdout",
          "text": [
            "NaNs en Churn después del mapeo:\n",
            "0\n"
          ]
        }
      ]
    },
    {
      "cell_type": "code",
      "source": [
        "# Imputar valores nulos en X si existen\n",
        "imputer = SimpleImputer(strategy='mean')  # Para columnas numéricas\n",
        "X_imputed = imputer.fit_transform(X)\n",
        "\n",
        "# Convertir X_imputed a DataFrame nuevamente para mantener las columnas originales\n",
        "X = pd.DataFrame(X_imputed, columns=X.columns)"
      ],
      "metadata": {
        "id": "nB0Ql6P2MVLP"
      },
      "execution_count": null,
      "outputs": []
    },
    {
      "cell_type": "code",
      "source": [
        "# Verificar si hay NaNs en y\n",
        "print(\"NaNs en y (Churn):\")\n",
        "print(y.isnull().sum())"
      ],
      "metadata": {
        "colab": {
          "base_uri": "https://localhost:8080/"
        },
        "id": "9KHeP4KYKXxD",
        "outputId": "1d9ad5b2-140b-414f-f053-8e9dbd3bfa2e"
      },
      "execution_count": null,
      "outputs": [
        {
          "output_type": "stream",
          "name": "stdout",
          "text": [
            "NaNs en y (Churn):\n",
            "0\n"
          ]
        }
      ]
    }
  ]
}